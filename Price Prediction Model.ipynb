{
 "cells": [
  {
   "cell_type": "markdown",
   "id": "8fc248fa",
   "metadata": {},
   "source": [
    "### This project is a linear regression model that predicts house prices based on pre-cleaned data. With this model, users can input various features of a house such as the number of bedrooms, the square footage, and the location, and receive a predicted price based on those features."
   ]
  },
  {
   "cell_type": "code",
   "execution_count": 4,
   "id": "e9e4ebc2",
   "metadata": {},
   "outputs": [
    {
     "data": {
      "text/html": [
       "<div>\n",
       "<style scoped>\n",
       "    .dataframe tbody tr th:only-of-type {\n",
       "        vertical-align: middle;\n",
       "    }\n",
       "\n",
       "    .dataframe tbody tr th {\n",
       "        vertical-align: top;\n",
       "    }\n",
       "\n",
       "    .dataframe thead th {\n",
       "        text-align: right;\n",
       "    }\n",
       "</style>\n",
       "<table border=\"1\" class=\"dataframe\">\n",
       "  <thead>\n",
       "    <tr style=\"text-align: right;\">\n",
       "      <th></th>\n",
       "      <th>House ID</th>\n",
       "      <th>Size (sq. m)</th>\n",
       "      <th>Location</th>\n",
       "      <th>Number of Rooms</th>\n",
       "      <th>Age (years)</th>\n",
       "      <th>Price (USD)</th>\n",
       "    </tr>\n",
       "  </thead>\n",
       "  <tbody>\n",
       "    <tr>\n",
       "      <th>0</th>\n",
       "      <td>1</td>\n",
       "      <td>139.35</td>\n",
       "      <td>Urban</td>\n",
       "      <td>3</td>\n",
       "      <td>10</td>\n",
       "      <td>300000</td>\n",
       "    </tr>\n",
       "    <tr>\n",
       "      <th>1</th>\n",
       "      <td>2</td>\n",
       "      <td>204.38</td>\n",
       "      <td>Suburban</td>\n",
       "      <td>4</td>\n",
       "      <td>5</td>\n",
       "      <td>450000</td>\n",
       "    </tr>\n",
       "    <tr>\n",
       "      <th>2</th>\n",
       "      <td>3</td>\n",
       "      <td>167.22</td>\n",
       "      <td>Rural</td>\n",
       "      <td>3</td>\n",
       "      <td>20</td>\n",
       "      <td>250000</td>\n",
       "    </tr>\n",
       "    <tr>\n",
       "      <th>3</th>\n",
       "      <td>4</td>\n",
       "      <td>111.48</td>\n",
       "      <td>Urban</td>\n",
       "      <td>2</td>\n",
       "      <td>15</td>\n",
       "      <td>200000</td>\n",
       "    </tr>\n",
       "    <tr>\n",
       "      <th>4</th>\n",
       "      <td>5</td>\n",
       "      <td>232.26</td>\n",
       "      <td>Suburban</td>\n",
       "      <td>5</td>\n",
       "      <td>2</td>\n",
       "      <td>500000</td>\n",
       "    </tr>\n",
       "    <tr>\n",
       "      <th>5</th>\n",
       "      <td>6</td>\n",
       "      <td>185.81</td>\n",
       "      <td>Rural</td>\n",
       "      <td>4</td>\n",
       "      <td>8</td>\n",
       "      <td>350000</td>\n",
       "    </tr>\n",
       "    <tr>\n",
       "      <th>6</th>\n",
       "      <td>7</td>\n",
       "      <td>157.93</td>\n",
       "      <td>Urban</td>\n",
       "      <td>3</td>\n",
       "      <td>12</td>\n",
       "      <td>280000</td>\n",
       "    </tr>\n",
       "    <tr>\n",
       "      <th>7</th>\n",
       "      <td>8</td>\n",
       "      <td>176.51</td>\n",
       "      <td>Suburban</td>\n",
       "      <td>4</td>\n",
       "      <td>6</td>\n",
       "      <td>400000</td>\n",
       "    </tr>\n",
       "    <tr>\n",
       "      <th>8</th>\n",
       "      <td>9</td>\n",
       "      <td>148.64</td>\n",
       "      <td>Rural</td>\n",
       "      <td>3</td>\n",
       "      <td>18</td>\n",
       "      <td>230000</td>\n",
       "    </tr>\n",
       "    <tr>\n",
       "      <th>9</th>\n",
       "      <td>10</td>\n",
       "      <td>130.06</td>\n",
       "      <td>Urban</td>\n",
       "      <td>2</td>\n",
       "      <td>10</td>\n",
       "      <td>180000</td>\n",
       "    </tr>\n",
       "  </tbody>\n",
       "</table>\n",
       "</div>"
      ],
      "text/plain": [
       "   House ID  Size (sq. m)  Location  Number of Rooms  Age (years)  Price (USD)\n",
       "0         1        139.35     Urban                3           10       300000\n",
       "1         2        204.38  Suburban                4            5       450000\n",
       "2         3        167.22     Rural                3           20       250000\n",
       "3         4        111.48     Urban                2           15       200000\n",
       "4         5        232.26  Suburban                5            2       500000\n",
       "5         6        185.81     Rural                4            8       350000\n",
       "6         7        157.93     Urban                3           12       280000\n",
       "7         8        176.51  Suburban                4            6       400000\n",
       "8         9        148.64     Rural                3           18       230000\n",
       "9        10        130.06     Urban                2           10       180000"
      ]
     },
     "execution_count": 4,
     "metadata": {},
     "output_type": "execute_result"
    }
   ],
   "source": [
    "#importing libraries and dataset\n",
    "\n",
    "import pandas as pd\n",
    "import numpy as np\n",
    "\n",
    "df = pd.read_csv(r'C:\\Users\\Andrei\\Desktop\\Data fo Data Science\\house_prices.csv')\n",
    "\n",
    "df"
   ]
  },
  {
   "cell_type": "code",
   "execution_count": 5,
   "id": "c0d94e89",
   "metadata": {},
   "outputs": [
    {
     "name": "stdout",
     "output_type": "stream",
     "text": [
      "Mean squared error: 794919236.7766732\n",
      "R2 score: 0.9343041953077129\n",
      "Avarage error: 28194.3\n"
     ]
    }
   ],
   "source": [
    "# Creating one-hot encoded columns for the 'Location' column\n",
    "dummies = pd.get_dummies(df['Location'])\n",
    "df = pd.concat([df, dummies], axis=1)\n",
    "\n",
    "# Removing the original 'Location' column\n",
    "df = df.drop('Location', axis=1)\n",
    "\n",
    "from sklearn.model_selection import train_test_split\n",
    "\n",
    "# Splitting the data into training and testing sets\n",
    "X = df.drop('Price (USD)', axis=1)\n",
    "y = df['Price (USD)']\n",
    "X_train, X_test, y_train, y_test = train_test_split(X, y, test_size=0.2, random_state=42)\n",
    "\n",
    "from sklearn.linear_model import LinearRegression\n",
    "from sklearn.metrics import mean_squared_error, r2_score\n",
    "\n",
    "# Training a linear regression model on the training set\n",
    "model = LinearRegression()\n",
    "model.fit(X_train, y_train)\n",
    "\n",
    "# Evaluating the model on the testing set\n",
    "y_pred = model.predict(X_test)\n",
    "mse = mean_squared_error(y_test, y_pred)\n",
    "r2 = r2_score(y_test, y_pred)\n",
    "\n",
    "print('Mean squared error:', mse)\n",
    "print('R2 score:', r2)\n",
    "\n",
    "import math\n",
    "avarage_error = round(math.sqrt(mse),1)\n",
    "\n",
    "print('Avarage error:', avarage_error)"
   ]
  },
  {
   "cell_type": "markdown",
   "id": "878588bf",
   "metadata": {},
   "source": [
    "#### The R2 score of the model is quite close to 1 which indicates the good fit of the model. The mean squared error shows that on avarage the model predicts prices with an error of around 28 thousand $."
   ]
  },
  {
   "cell_type": "code",
   "execution_count": 6,
   "id": "aa3f14df",
   "metadata": {},
   "outputs": [
    {
     "data": {
      "text/plain": [
       "['house_pricing_model.pkl']"
      ]
     },
     "execution_count": 6,
     "metadata": {},
     "output_type": "execute_result"
    }
   ],
   "source": [
    "# Exporting the model to the device\n",
    "\n",
    "import joblib\n",
    "\n",
    "joblib.dump(model, 'house_pricing_model.pkl')"
   ]
  },
  {
   "cell_type": "markdown",
   "id": "15d56097",
   "metadata": {},
   "source": [
    "#### Now this model can be launched onto a platform to make predictions from real-time data input. Most common platforms include Amazon Web Services, Microsoft Azure and Google Cloud Platform."
   ]
  }
 ],
 "metadata": {
  "kernelspec": {
   "display_name": "Python 3 (ipykernel)",
   "language": "python",
   "name": "python3"
  },
  "language_info": {
   "codemirror_mode": {
    "name": "ipython",
    "version": 3
   },
   "file_extension": ".py",
   "mimetype": "text/x-python",
   "name": "python",
   "nbconvert_exporter": "python",
   "pygments_lexer": "ipython3",
   "version": "3.9.13"
  }
 },
 "nbformat": 4,
 "nbformat_minor": 5
}
